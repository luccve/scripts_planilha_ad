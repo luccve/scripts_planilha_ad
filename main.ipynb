{
 "cells": [
  {
   "cell_type": "code",
   "execution_count": 90,
   "metadata": {},
   "outputs": [],
   "source": [
    "import pandas as pd\n",
    "import os"
   ]
  },
  {
   "cell_type": "code",
   "execution_count": 91,
   "metadata": {},
   "outputs": [],
   "source": [
    "\n",
    "def ler_arquivo(caminho_arquivo, tipo):\n",
    "    try:\n",
    "        # Lê o arquivo XLSX\n",
    "        if tipo in ['xls', 'xlsx']:\n",
    "            df = pd.read_excel(caminho_arquivo)\n",
    "            return df\n",
    "        elif tipo == 'csv':\n",
    "            # Determina o separador dinamicamente\n",
    "            with open(caminho_arquivo, 'r') as file:\n",
    "                # Lê as primeiras linhas para determinar o separador\n",
    "                first_line = file.readline().strip()\n",
    "                delimiter = ',' if ',' in first_line else ';'\n",
    "            df = pd.read_csv(caminho_arquivo, sep=delimiter)\n",
    "            return df\n",
    "        else:\n",
    "            raise ValueError(\"Tipo de arquivo não suportado. Por favor, forneça 'xls', 'xlsx' ou 'csv'.\")\n",
    "    except FileNotFoundError:\n",
    "        print(f\"Arquivo não encontrado: {caminho_arquivo}\")\n",
    "    except Exception as e:\n",
    "        print(f\"Erro ao ler o arquivo: {e}\")"
   ]
  },
  {
   "cell_type": "code",
   "execution_count": 92,
   "metadata": {},
   "outputs": [],
   "source": [
    "def path_origin_file(file):\n",
    "    return os.path.dirname(file)"
   ]
  },
  {
   "cell_type": "markdown",
   "metadata": {},
   "source": [
    "## Mude o nome do arquivo e o indice"
   ]
  },
  {
   "cell_type": "code",
   "execution_count": 93,
   "metadata": {},
   "outputs": [],
   "source": [
    "\n",
    "nome_do_arquivo = 'tabela_ad_df.csv'\n",
    "caminho_do_arquivo = \"\"\n",
    "folder = 'DF'\n",
    "if os.path.isdir('CE'):\n",
    "    caminho_do_arquivo = os.path.join(os.path.abspath(folder),nome_do_arquivo)\n",
    "else:\n",
    "    raise Exception(\"Não Existe o caminho do arquivo\")"
   ]
  },
  {
   "cell_type": "code",
   "execution_count": 94,
   "metadata": {},
   "outputs": [
    {
     "name": "stdout",
     "output_type": "stream",
     "text": [
      "csv\n"
     ]
    },
    {
     "data": {
      "text/html": [
       "<div>\n",
       "<style scoped>\n",
       "    .dataframe tbody tr th:only-of-type {\n",
       "        vertical-align: middle;\n",
       "    }\n",
       "\n",
       "    .dataframe tbody tr th {\n",
       "        vertical-align: top;\n",
       "    }\n",
       "\n",
       "    .dataframe thead th {\n",
       "        text-align: right;\n",
       "    }\n",
       "</style>\n",
       "<table border=\"1\" class=\"dataframe\">\n",
       "  <thead>\n",
       "    <tr style=\"text-align: right;\">\n",
       "      <th></th>\n",
       "      <th>Legenda 1</th>\n",
       "      <th>1 Obs:</th>\n",
       "      <th>1 Nivel1</th>\n",
       "      <th>1 Nivel2</th>\n",
       "      <th>1 Nivel3</th>\n",
       "      <th>1 Nivel4</th>\n",
       "      <th>1 Textura1</th>\n",
       "      <th>1 Textura2</th>\n",
       "      <th>1 Textura3</th>\n",
       "      <th>1 Pedregosidade</th>\n",
       "      <th>...</th>\n",
       "      <th>5 Dtext3</th>\n",
       "      <th>5 ADtex1</th>\n",
       "      <th>5 ADtex2</th>\n",
       "      <th>5 ADtex3</th>\n",
       "      <th>5 Adsolo</th>\n",
       "      <th>5 Psolo</th>\n",
       "      <th>5 ADprop</th>\n",
       "      <th>ADUM</th>\n",
       "      <th>Unnamed: 152</th>\n",
       "      <th>Unnamed: 153</th>\n",
       "    </tr>\n",
       "  </thead>\n",
       "  <tbody>\n",
       "    <tr>\n",
       "      <th>0</th>\n",
       "      <td>Ade</td>\n",
       "      <td>NaN</td>\n",
       "      <td>NEOSSOLOS</td>\n",
       "      <td>FLÚVICOS</td>\n",
       "      <td>Distrófico e Eutrófico</td>\n",
       "      <td>NaN</td>\n",
       "      <td>Argilosa</td>\n",
       "      <td>NaN</td>\n",
       "      <td>NaN</td>\n",
       "      <td></td>\n",
       "      <td>...</td>\n",
       "      <td>0</td>\n",
       "      <td>NaN</td>\n",
       "      <td>NaN</td>\n",
       "      <td>NaN</td>\n",
       "      <td>0,000</td>\n",
       "      <td>NaN</td>\n",
       "      <td>0,00000</td>\n",
       "      <td>1,44200</td>\n",
       "      <td>NaN</td>\n",
       "      <td>NaN</td>\n",
       "    </tr>\n",
       "    <tr>\n",
       "      <th>1</th>\n",
       "      <td>AQd1</td>\n",
       "      <td>NaN</td>\n",
       "      <td>NEOSSOLOS</td>\n",
       "      <td>QUARTZARÊNICO</td>\n",
       "      <td>NaN</td>\n",
       "      <td>NaN</td>\n",
       "      <td>Arenosa</td>\n",
       "      <td>NaN</td>\n",
       "      <td>NaN</td>\n",
       "      <td></td>\n",
       "      <td>...</td>\n",
       "      <td>0</td>\n",
       "      <td>NaN</td>\n",
       "      <td>NaN</td>\n",
       "      <td>NaN</td>\n",
       "      <td>0,000</td>\n",
       "      <td>NaN</td>\n",
       "      <td>0,00000</td>\n",
       "      <td>0,57000</td>\n",
       "      <td>NaN</td>\n",
       "      <td>NaN</td>\n",
       "    </tr>\n",
       "    <tr>\n",
       "      <th>2</th>\n",
       "      <td>AQd2</td>\n",
       "      <td>NaN</td>\n",
       "      <td>NEOSSOLOS</td>\n",
       "      <td>QUARTZARÊNICO</td>\n",
       "      <td>NaN</td>\n",
       "      <td>NaN</td>\n",
       "      <td>Arenosa</td>\n",
       "      <td>NaN</td>\n",
       "      <td>NaN</td>\n",
       "      <td></td>\n",
       "      <td>...</td>\n",
       "      <td>0</td>\n",
       "      <td>NaN</td>\n",
       "      <td>NaN</td>\n",
       "      <td>NaN</td>\n",
       "      <td>0,000</td>\n",
       "      <td>NaN</td>\n",
       "      <td>0,00000</td>\n",
       "      <td>0,57000</td>\n",
       "      <td>NaN</td>\n",
       "      <td>NaN</td>\n",
       "    </tr>\n",
       "    <tr>\n",
       "      <th>3</th>\n",
       "      <td>BV</td>\n",
       "      <td>NaN</td>\n",
       "      <td>CHERNOSSOLO</td>\n",
       "      <td>AVERMELHADO</td>\n",
       "      <td></td>\n",
       "      <td>NaN</td>\n",
       "      <td>Argilosa</td>\n",
       "      <td>NaN</td>\n",
       "      <td>NaN</td>\n",
       "      <td></td>\n",
       "      <td>...</td>\n",
       "      <td>0</td>\n",
       "      <td>NaN</td>\n",
       "      <td>NaN</td>\n",
       "      <td>NaN</td>\n",
       "      <td>0,000</td>\n",
       "      <td>NaN</td>\n",
       "      <td>0,00000</td>\n",
       "      <td>0,88200</td>\n",
       "      <td>NaN</td>\n",
       "      <td>NaN</td>\n",
       "    </tr>\n",
       "    <tr>\n",
       "      <th>4</th>\n",
       "      <td>Cd1</td>\n",
       "      <td>NaN</td>\n",
       "      <td>CAMBISSOLO</td>\n",
       "      <td>HISTICO/HÁPLICO/HUMICO</td>\n",
       "      <td>Tb</td>\n",
       "      <td>NaN</td>\n",
       "      <td>Argilosa</td>\n",
       "      <td>NaN</td>\n",
       "      <td>NaN</td>\n",
       "      <td></td>\n",
       "      <td>...</td>\n",
       "      <td>0</td>\n",
       "      <td>NaN</td>\n",
       "      <td>NaN</td>\n",
       "      <td>NaN</td>\n",
       "      <td>0,000</td>\n",
       "      <td>NaN</td>\n",
       "      <td>0,00000</td>\n",
       "      <td>1,34000</td>\n",
       "      <td>NaN</td>\n",
       "      <td>NaN</td>\n",
       "    </tr>\n",
       "  </tbody>\n",
       "</table>\n",
       "<p>5 rows × 154 columns</p>\n",
       "</div>"
      ],
      "text/plain": [
       "  Legenda 1  1 Obs:     1 Nivel1                 1 Nivel2  \\\n",
       "0       Ade     NaN    NEOSSOLOS                 FLÚVICOS   \n",
       "1      AQd1     NaN    NEOSSOLOS            QUARTZARÊNICO   \n",
       "2      AQd2     NaN    NEOSSOLOS            QUARTZARÊNICO   \n",
       "3        BV     NaN  CHERNOSSOLO              AVERMELHADO   \n",
       "4       Cd1     NaN   CAMBISSOLO   HISTICO/HÁPLICO/HUMICO   \n",
       "\n",
       "                 1 Nivel3  1 Nivel4 1 Textura1  1 Textura2  1 Textura3  \\\n",
       "0  Distrófico e Eutrófico       NaN   Argilosa         NaN         NaN   \n",
       "1                     NaN       NaN    Arenosa         NaN         NaN   \n",
       "2                     NaN       NaN    Arenosa         NaN         NaN   \n",
       "3                               NaN   Argilosa         NaN         NaN   \n",
       "4                      Tb       NaN   Argilosa         NaN         NaN   \n",
       "\n",
       "  1 Pedregosidade  ...  5 Dtext3 5 ADtex1  5 ADtex2  5 ADtex3  5 Adsolo  \\\n",
       "0                  ...         0      NaN       NaN       NaN     0,000   \n",
       "1                  ...         0      NaN       NaN       NaN     0,000   \n",
       "2                  ...         0      NaN       NaN       NaN     0,000   \n",
       "3                  ...         0      NaN       NaN       NaN     0,000   \n",
       "4                  ...         0      NaN       NaN       NaN     0,000   \n",
       "\n",
       "   5 Psolo  5 ADprop     ADUM  Unnamed: 152  Unnamed: 153  \n",
       "0      NaN   0,00000  1,44200           NaN           NaN  \n",
       "1      NaN   0,00000  0,57000           NaN           NaN  \n",
       "2      NaN   0,00000  0,57000           NaN           NaN  \n",
       "3      NaN   0,00000  0,88200           NaN           NaN  \n",
       "4      NaN   0,00000  1,34000           NaN           NaN  \n",
       "\n",
       "[5 rows x 154 columns]"
      ]
     },
     "execution_count": 94,
     "metadata": {},
     "output_type": "execute_result"
    }
   ],
   "source": [
    "tipo = caminho_do_arquivo.split('.')[1]\n",
    "print(tipo)\n",
    "df = ler_arquivo(caminho_do_arquivo, tipo)\n",
    "indice_join = \"Legenda 1\"\n",
    "df.head()"
   ]
  },
  {
   "cell_type": "markdown",
   "metadata": {},
   "source": [
    "## Rename Colunas"
   ]
  },
  {
   "cell_type": "code",
   "execution_count": 95,
   "metadata": {},
   "outputs": [],
   "source": [
    "colunas_drop = []\n",
    "textura_componentes = {'textura_c1': [], 'textura_c2': [], 'textura_c3': [], 'textura_c4': [],'textura_c5': [],}\n",
    "solos_componentes = {'solos_c1': [], 'solos_c2': [], \"solos_c3\":[],\"solos_c4\":[],\"solos_c5\":[]}\n",
    "\n",
    "for coluna in df.columns:\n",
    "    lowerString = coluna.lower()\n",
    "    if \"pedre\" in lowerString:\n",
    "        df.rename(columns={coluna:f\"pedrego_c{coluna[0]}\"}, inplace=True)\n",
    "    elif \"nivel\" in lowerString:\n",
    "        df[coluna] = df[coluna].astype(str)\n",
    "        if(int(coluna[0]) and int(coluna[-1])):\n",
    "            df.rename(columns={coluna: f'{coluna[0]} Nivel{coluna[-1]}'}, inplace=True)\n",
    "            solos_componentes[f'solos_c{coluna[0]}'].append(f'{coluna[0]} Nivel{coluna[-1]}')\n",
    "    elif \"rocho\" in lowerString:\n",
    "        df.rename(columns={coluna:f\"rocho_c{coluna[0]}\"}, inplace=True)\n",
    "    elif \"relevo\" in lowerString:\n",
    "        df.rename(columns={coluna:f\"relevo_c{coluna[0]}\"}, inplace=True)\n",
    "    elif \"adum\" in lowerString:\n",
    "        df.rename(columns={coluna:f\"ad_um\"}, inplace=True)\n",
    "    elif \"solo_\" in lowerString:\n",
    "        continue\n",
    "    elif \"ad_\" in lowerString:\n",
    "        continue\n",
    "    elif indice_join.lower() == lowerString:\n",
    "        df.rename(columns={coluna:'ind_csv'}, inplace=True)\n",
    "        \n",
    "    elif \"ad solo\" in lowerString or \"adsolo\" in lowerString:\n",
    "        df.rename(columns={coluna:f\"ad_c{coluna[0]}\"}, inplace=True)\n",
    "        continue\n",
    "    elif \"textu\" in lowerString:\n",
    "        df[coluna] = df[coluna].astype(str)\n",
    "        if(coluna.startswith(\"1\") and not coluna in textura_componentes[\"textura_c1\"]):\n",
    "            textura_componentes[\"textura_c1\"].append(coluna)\n",
    "        if(coluna.startswith(\"2\") and not coluna in textura_componentes[\"textura_c2\"]):\n",
    "            textura_componentes[\"textura_c2\"].append(coluna)\n",
    "        if(coluna.startswith(\"3\")) and not coluna in textura_componentes[\"textura_c3\"]:\n",
    "            textura_componentes[\"textura_c3\"].append(coluna)\n",
    "        if(coluna.startswith(\"4\")) and not coluna in textura_componentes[\"textura_c4\"]:\n",
    "            textura_componentes[\"textura_c4\"].append(coluna)\n",
    "        if(coluna.startswith(\"5\")) and not coluna in textura_componentes[\"textura_c5\"]:\n",
    "            textura_componentes[\"textura_c5\"].append(coluna)\n",
    "    else:\n",
    "        colunas_drop.append(coluna)"
   ]
  },
  {
   "cell_type": "markdown",
   "metadata": {},
   "source": [
    "## Solos\n"
   ]
  },
  {
   "cell_type": "code",
   "execution_count": 96,
   "metadata": {},
   "outputs": [],
   "source": [
    "\n",
    "for key, value in solos_componentes.items():\n",
    "    df[key] = df[value].apply(lambda row: ' '.join(filter(lambda x: x if x !=\"nan\" else None, row)), axis=1)\n",
    "    df.drop(columns=value, inplace=True)"
   ]
  },
  {
   "cell_type": "markdown",
   "metadata": {},
   "source": [
    "## Textura"
   ]
  },
  {
   "cell_type": "code",
   "execution_count": 97,
   "metadata": {},
   "outputs": [],
   "source": [
    "for key, value in textura_componentes.items():\n",
    "    df[key] = df[value].apply(lambda row: ', '.join(filter(lambda x: x if x !=\"nan\" else None, row)), axis=1)\n",
    "    df.drop(columns=value, inplace=True)"
   ]
  },
  {
   "cell_type": "markdown",
   "metadata": {},
   "source": [
    "## c1_class"
   ]
  },
  {
   "cell_type": "code",
   "execution_count": 98,
   "metadata": {},
   "outputs": [],
   "source": [
    "df['c1_class'] = df['solos_c1']+' - ' + df['ind_csv']"
   ]
  },
  {
   "cell_type": "markdown",
   "metadata": {},
   "source": [
    "## Limpando dataframe"
   ]
  },
  {
   "cell_type": "code",
   "execution_count": 99,
   "metadata": {},
   "outputs": [],
   "source": [
    "colunas_drop\n",
    "df.drop(columns=colunas_drop, inplace=True)\n"
   ]
  },
  {
   "cell_type": "markdown",
   "metadata": {},
   "source": [
    "## Exportando"
   ]
  },
  {
   "cell_type": "code",
   "execution_count": 100,
   "metadata": {},
   "outputs": [],
   "source": [
    "nome_do_arquivo_out = nome_do_arquivo.split('.')[0]+'_novo'+'.csv'\n",
    "\n",
    "path_saida = os.path.join(path_origin_file(caminho_do_arquivo),nome_do_arquivo_out)\n",
    "df.to_csv(path_saida, index=False, encoding='utf-8-sig', sep=',')"
   ]
  }
 ],
 "metadata": {
  "kernelspec": {
   "display_name": "venv",
   "language": "python",
   "name": "python3"
  },
  "language_info": {
   "codemirror_mode": {
    "name": "ipython",
    "version": 3
   },
   "file_extension": ".py",
   "mimetype": "text/x-python",
   "name": "python",
   "nbconvert_exporter": "python",
   "pygments_lexer": "ipython3",
   "version": "3.9.9"
  }
 },
 "nbformat": 4,
 "nbformat_minor": 2
}
